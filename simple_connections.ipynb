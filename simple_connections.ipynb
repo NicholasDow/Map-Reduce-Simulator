{
 "cells": [
  {
   "cell_type": "code",
   "metadata": {
    "tags": [],
    "cell_id": "ad9500e3-1a49-4b9d-a333-80e34335b4b8",
    "deepnote_to_be_reexecuted": false,
    "source_hash": "95c986e3",
    "execution_start": 1646262994845,
    "execution_millis": 0,
    "deepnote_cell_type": "code"
   },
   "source": "# simulate the simple node A, B, C case\n\n",
   "execution_count": null,
   "outputs": []
  },
  {
   "cell_type": "markdown",
   "source": "a -> b\n\nc -> b\n",
   "metadata": {
    "cell_id": "2bd2e1b7-efd7-4a62-aede-e6eb901e234e",
    "tags": [],
    "deepnote_cell_type": "markdown"
   }
  },
  {
   "cell_type": "code",
   "metadata": {
    "cell_id": "f6e0f3c7-65e9-48e0-a8ce-8c6395ff0e49",
    "tags": [],
    "deepnote_to_be_reexecuted": false,
    "source_hash": "6a57a483",
    "execution_start": 1646424207945,
    "execution_millis": 3,
    "deepnote_cell_type": "code"
   },
   "source": "import itertools",
   "execution_count": null,
   "outputs": []
  },
  {
   "cell_type": "code",
   "metadata": {
    "cell_id": "23159ec9-24a9-45c5-b92d-6039286f3830",
    "tags": [],
    "deepnote_to_be_reexecuted": false,
    "source_hash": "47f4d513",
    "execution_start": 1646262994860,
    "execution_millis": 0,
    "deepnote_cell_type": "code"
   },
   "source": "time = 0 \n\n# Albert I am just going to start working on the node object here, you do what you want above and I will incorporate it \nclass Node:\n    newid = itertools.count()\n    \n    def __init__(self, name = '', sending_bandwith = 1, receiving_bandwith = 1, data = 0):\n        self.name = name\n        self.id = next(Node.newid)\n        # Stats for each node\n        # self.time_in_computation = 0\n        # self.time_in_waiting = 0\n        self.time_in_communication = 0\n        # self.time_in_failure = 0\n        # self.memory_access = 0\n\n        self.data = data\n        self.sending_bandwith = sending_bandwith\n        self.receiving_bandwith = receiving_bandwith\n\n        self.dependent_nodes = []\n        self.target_nodes = []\n        \n        # This is useless\n        # self.data_to_send = 0\n        # self.data_received = 0\n\n        # in this model you can't send and receive at the same time. we can change that with in_sending vs in_rec\n        self.in_communication = False\n        # self.in_calculation = False\n        # Represents total bandwith for node. Will be a function of other attributes, eventually\n\n    def update(self):\n        if self.data > 0 and self.in_communication != True:\n            # print(self.name, \"is running and in communication is\", self.in_communication)\n            # self.in_communication = True\n            # self.time_in_communication += 1\n\n            sb = self.sending_bandwith\n            \n            target_bandwiths = []\n            for target in self.target_nodes:\n                target_bandwiths.append(target.receiving_bandwith)\n            \n            if sum(target_bandwiths) > sb:\n                print('gets here')\n                amount_off_data = sb/len(self.target_nodes)\n                self.data -= sb\n                for target in self.target_nodes:\n                    target.time_in_communication += 1\n                    target.in_communication = True\n                    target.data += amount_off_data\n            else:\n                for node in self.target_nodes:\n                    # we are sending the same copy of the data to each target\n                    \n                    # we get the dependent nodes of our target, and we calculate the the amount of data we can send in this timestep\n                    rb = node.receiving_bandwith\n                    dep_bandwiths = []\n\n                    for deps in node.dependent_nodes:\n                        dep_bandwiths.append(deps.sending_bandwith)\n                    \n                    num_dep_nodes = len(node.dependent_nodes)\n                    \n                    if sum(dep_bandwiths) > rb:\n                        # this will be true if all the dependent nodes want to send more than distributed bandwith capacity\n                        amount_off_data = rb / num_dep_nodes\n                        node.data += rb\n                        for deps in node.dependent_nodes:\n                            # I will combine this with the forloop below later\n                            deps.time_in_communication += 1\n                            deps.in_communication = True\n                            deps.data = deps.data - amount_off_data\n                            \n                    else:\n                        # in this case we just subtract off the amount that we need from the bandwith and we allocate that\n                        for deps in node.dependent_nodes:\n                            deps.time_in_communication += 1\n                            deps.in_communication = True\n                            deps.data = deps.data - deps.sending_bandwith\n                            node.data += deps.sending_bandwith\n    \n    def add_dependencies_l(self, dependency_l):\n        # add the dependencies\n        assert (not self in dependency_l)\n        self.dependent_nodes = dependency_l\n    \n    def reset(self):\n        \"\"\" We are going to make sure that the node is not doing anything after time step \"\"\"\n        self.in_communication = False\n                    \n\n    # do we allow nodes to send data to multiple node at the same time?\n        \n    \n    def receive_data_speed(self):\n        # Find speed of receiving data, potentially from each dependent node\n        self.dependent_nodes \n\n    def transmission_speed(node_s, node_r):\n        limiting_bandwith = min(node_s.sending_bandwith, node_r.receiving_bandwith)\n        return limiting_bandwith\n\n    # def debug(self):\n    #     def print_node_attrib(nd):\n    #         print(f\"\\tNode id: {nd.id}\")\n    #         print(f\"\\tName: {nd.name}\")\n    #         print(f\"\\tData: {nd.data}\")\n    #         print(f\"\\tSending bandwidth: {nd.sending_bandwith}\")\n    #         print(f\"\\tDependent nodes: {nd.dependent_nodes}\")\n    #         print(f\"\\tTarget nodes: {nd.target_nodes}\\n\")\n    #     # print(f\"Node {self.id} at timestep {self.time_in_communication}\")\n    #     print(f\"Dependent nodes:\")\n    #     for node in self.dependent_nodes:\n    #         print_node_attrib(node)\n",
   "execution_count": null,
   "outputs": []
  },
  {
   "cell_type": "code",
   "metadata": {
    "cell_id": "995ddcf8-bb73-439d-a3a3-4c085cf4d482",
    "tags": [],
    "deepnote_to_be_reexecuted": false,
    "source_hash": "512933e3",
    "execution_start": 1646262994864,
    "execution_millis": 0,
    "deepnote_cell_type": "code"
   },
   "source": "# nd\ndef run(node_l):\n    # step each node on the list of nodes \n    for node in node_l:\n        # iterate through each node\n        # have each ndoe run its internal update function\n        node.update()\n    \n    for node in node_l:\n        node.reset()",
   "execution_count": null,
   "outputs": []
  },
  {
   "cell_type": "code",
   "metadata": {
    "cell_id": "81253032-174d-4259-a2da-585bb38843e3",
    "tags": [],
    "deepnote_to_be_reexecuted": false,
    "source_hash": "6a0cf6f2",
    "execution_start": 1646262994871,
    "execution_millis": 14415356,
    "deepnote_cell_type": "code"
   },
   "source": "# Example eddie gave\n\nnode_a = Node(name = 'a')\nnode_b = Node(name = 'b')\nnode_c = Node(name = 'c') \n\n\n# here i am connecting everything\n\n# here is where I am making dependent nodes\nnode_c.add_dependencies_l([node_a, node_b])\n\n\n# here I make targets\nnode_a.target_nodes = [node_c]\nnode_b.target_nodes = [node_c]\n\n# since the two lines above are going to be conjugates we should make them into one function\n\nnode_a.data = 5\nnode_b.data = 5\n\n",
   "execution_count": null,
   "outputs": []
  },
  {
   "cell_type": "code",
   "metadata": {
    "cell_id": "c8e2d027-5037-4d49-8e9f-d1642800d993",
    "tags": [],
    "deepnote_to_be_reexecuted": false,
    "source_hash": "5689bf39",
    "execution_start": 1646262994928,
    "execution_millis": 3,
    "deepnote_cell_type": "code"
   },
   "source": "# if node has data then we begin calculating and sending to the targets\nprint(\"node c\", node_c.data)\nprint(\"node a\", node_a.data)\nprint(\"node b\", node_b.data)\nprint(\"initial amounts ^^^\")\nfor i in range(15):\n    print(\"time step\", i, \"______\")\n    print(\"node c\", node_c.data)\n    print(\"node a\", node_a.data)\n    print(\"node b\", node_b.data)\n    run([node_a, node_b, node_c])",
   "execution_count": null,
   "outputs": [
    {
     "name": "stdout",
     "text": "node c 0\nnode a 5\nnode b 5\ninitial amounts ^^^\ntime step 0 ______\nnode c 0\nnode a 5\nnode b 5\ntime step 1 ______\nnode c 1\nnode a 4.5\nnode b 4.5\ntime step 2 ______\nnode c 2\nnode a 4.0\nnode b 4.0\ntime step 3 ______\nnode c 3\nnode a 3.5\nnode b 3.5\ntime step 4 ______\nnode c 4\nnode a 3.0\nnode b 3.0\ntime step 5 ______\nnode c 5\nnode a 2.5\nnode b 2.5\ntime step 6 ______\nnode c 6\nnode a 2.0\nnode b 2.0\ntime step 7 ______\nnode c 7\nnode a 1.5\nnode b 1.5\ntime step 8 ______\nnode c 8\nnode a 1.0\nnode b 1.0\ntime step 9 ______\nnode c 9\nnode a 0.5\nnode b 0.5\ntime step 10 ______\nnode c 10\nnode a 0.0\nnode b 0.0\ntime step 11 ______\nnode c 10\nnode a 0.0\nnode b 0.0\ntime step 12 ______\nnode c 10\nnode a 0.0\nnode b 0.0\ntime step 13 ______\nnode c 10\nnode a 0.0\nnode b 0.0\ntime step 14 ______\nnode c 10\nnode a 0.0\nnode b 0.0\n",
     "output_type": "stream"
    }
   ]
  },
  {
   "cell_type": "code",
   "metadata": {
    "cell_id": "653b60ca-6c0b-4462-81d5-59939db3582e",
    "tags": [],
    "deepnote_to_be_reexecuted": false,
    "source_hash": "880ee7b7",
    "execution_start": 1646262994929,
    "execution_millis": 44,
    "deepnote_cell_type": "code"
   },
   "source": "# in this example we flip the graph\n\nnode_a = Node(name = 'a')\nnode_b = Node(name = 'b')\nnode_c = Node(name = 'c') \n\n\n# here i am connecting everything\n\n# here is where I am making dependent nodes\nnode_a.add_dependencies_l([node_c])\nnode_b.add_dependencies_l([node_c])\n\n\n# here I make targets\nnode_c.target_nodes = [node_a, node_b]\n\n# since the two lines above are going to be conjugates we should make them into one function\n\nnode_c.data = 5\n\nprint(\"node c\", node_c.data)\nprint(\"node a\", node_a.data)\nprint(\"node b\", node_b.data)\nprint(\"initial amounts ^^^\")\nfor i in range(8):\n    print(\"time step\", i, \"______\")\n    print(\"node c\", node_c.data)\n    print(\"node a\", node_a.data)\n    print(\"node b\", node_b.data)\n    run([node_a, node_b, node_c])",
   "execution_count": null,
   "outputs": [
    {
     "name": "stdout",
     "text": "node c 5\nnode a 0\nnode b 0\ninitial amounts ^^^\ntime step 0 ______\nnode c 5\nnode a 0\nnode b 0\ngets here\ntime step 1 ______\nnode c 4\nnode a 0.5\nnode b 0.5\ngets here\ntime step 2 ______\nnode c 3\nnode a 1.0\nnode b 1.0\ngets here\ntime step 3 ______\nnode c 2\nnode a 1.5\nnode b 1.5\ngets here\ntime step 4 ______\nnode c 1\nnode a 2.0\nnode b 2.0\ngets here\ntime step 5 ______\nnode c 0\nnode a 2.5\nnode b 2.5\ntime step 6 ______\nnode c 0\nnode a 2.5\nnode b 2.5\ntime step 7 ______\nnode c 0\nnode a 2.5\nnode b 2.5\n",
     "output_type": "stream"
    }
   ]
  },
  {
   "cell_type": "code",
   "metadata": {
    "cell_id": "cb614f04-71b7-49cc-8de2-2bc519efb692",
    "tags": [],
    "deepnote_to_be_reexecuted": false,
    "source_hash": "e89bf22",
    "execution_start": 1646262994971,
    "execution_millis": 4,
    "deepnote_cell_type": "code"
   },
   "source": "a = Node(name = 'a')\nb = Node(name = 'b')\nc = Node(name = 'c')\nd = Node(name = 'd')\ne = Node(name = 'e')\nf = Node(name = 'f')\ng = Node(name = 'g')\n\n\n\n# here i am connecting everything\n\na.target_nodes = [b,c,d]\nb.target_nodes = [e,f]\nc.target_nodes = [e,f]\nd.target_nodes = [e,f]\ne.target_nodes = [g]\nf.target_nodes = [g]\n\n# dependent\n\n\n\n# since the two lines above are going to be conjugates we should make them into one function\n\nnode_c.data = 5\n\nprint(\"node c\", node_c.data)\nprint(\"node a\", node_a.data)\nprint(\"node b\", node_b.data)\nprint(\"initial amounts ^^^\")\nfor i in range(8):\n    print(\"time step\", i, \"______\")\n    print(\"node c\", node_c.data)\n    print(\"node a\", node_a.data)\n    print(\"node b\", node_b.data)\n    run([node_a, node_b, node_c])",
   "execution_count": null,
   "outputs": [
    {
     "name": "stdout",
     "text": "node c 5\nnode a 2.5\nnode b 2.5\ninitial amounts ^^^\ntime step 0 ______\nnode c 5\nnode a 2.5\nnode b 2.5\ngets here\ntime step 1 ______\nnode c 4\nnode a 3.0\nnode b 3.0\ngets here\ntime step 2 ______\nnode c 3\nnode a 3.5\nnode b 3.5\ngets here\ntime step 3 ______\nnode c 2\nnode a 4.0\nnode b 4.0\ngets here\ntime step 4 ______\nnode c 1\nnode a 4.5\nnode b 4.5\ngets here\ntime step 5 ______\nnode c 0\nnode a 5.0\nnode b 5.0\ntime step 6 ______\nnode c 0\nnode a 5.0\nnode b 5.0\ntime step 7 ______\nnode c 0\nnode a 5.0\nnode b 5.0\n",
     "output_type": "stream"
    }
   ]
  },
  {
   "cell_type": "markdown",
   "source": "# ",
   "metadata": {
    "cell_id": "b5815fb0-d5d5-4693-a411-89f60bea4a0b",
    "tags": [],
    "is_collapsed": false,
    "deepnote_cell_type": "text-cell-h1"
   }
  },
  {
   "cell_type": "code",
   "metadata": {
    "cell_id": "90de8d18-220a-43f8-91df-dff9cb6e1eed",
    "tags": [],
    "deepnote_to_be_reexecuted": false,
    "source_hash": "f563e60f",
    "execution_start": 1646262994973,
    "execution_millis": 3,
    "deepnote_cell_type": "code"
   },
   "source": "import random\n\nclass Scheduler:\n\n    def __init__(self, node_l):\n        # TODO: scheduler config\n        self.max_delay_time\n        self.global_time\n        self.delay_dict\n        self.node_l\n        # only have a subset of the nodes actually be stragglers\n        self.straggler_sub \n        self.failure_l = []\n        self.fail_special_number \n    \n    @staticmethod\n    def check_node_deps(self, nd):\n        # check the node deps\n        # if the dependency list contains a failure, fail the current node\n        pass\n    \n    def restart(self):\n        # called by run if the number of failures is infeasible\n        pass\n    \n    def run(self):\n        for node in self.node_l:\n        # iterate through each node\n        # have each ndoe run its internal update function\n        # don't update if the node is currently in delay\n        # if failure count is certain proportion of nodes, restart computation\n            if not self.check_node_deps(node):\n                # if a dependency has failed, then don't schedule and add to failure list\n                self.failure_l.append(nd)\n                continue\n            if not node in self.delay_dict: \n                node.update()\n                continue\n            # at every time step, check through dict and remove node if the delay time is up\n            if delay_dict[node] <= self.global_time:\n                self.delay_dict.pop(node)\n            # we have a random percentage of the amount of the task taht The straggler was able to complete, \n            # we restart this particular straggler with the remaining amount of the task\n\n    def send_delay(self):\n        # send a delay at every time step\n        # so what we can do is select a random node, then delay that node\n        delay_node = random.choice(self.straggler_sub)\n        delay_time = random.randint(1, self.max_delay_time)\n        # select amount of time to delay\n        self.delay_dict[delay_node] = self.global_time + delay_time\n        \n    def send_failure(self):\n        prob = random.randint(1, 2*self.fail_special_number)\n        # send with a failure\n        if prob == self.fail_special_number:\n            self.failure_l.append(random.choice(self.node_l))",
   "execution_count": null,
   "outputs": []
  },
  {
   "cell_type": "code",
   "metadata": {
    "cell_id": "c455450b-a181-4eb1-ae3a-1d41cb8c1276",
    "tags": [],
    "deepnote_to_be_reexecuted": false,
    "source_hash": "b623e53d",
    "execution_start": 1646262995024,
    "execution_millis": 0,
    "deepnote_cell_type": "code"
   },
   "source": "",
   "execution_count": null,
   "outputs": []
  },
  {
   "cell_type": "markdown",
   "source": "<a style='text-decoration:none;line-height:16px;display:flex;color:#5B5B62;padding:10px;justify-content:end;' href='https://deepnote.com?utm_source=created-in-deepnote-cell&projectId=26c72990-d4fd-4f51-a2d1-b4fb7127844f' target=\"_blank\">\n<img alt='Created in deepnote.com' style='display:inline;max-height:16px;margin:0px;margin-right:7.5px;' src='data:image/svg+xml;base64,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' > </img>\nCreated in <span style='font-weight:600;margin-left:4px;'>Deepnote</span></a>",
   "metadata": {
    "tags": [],
    "created_in_deepnote_cell": true,
    "deepnote_cell_type": "markdown"
   }
  }
 ],
 "nbformat": 4,
 "nbformat_minor": 2,
 "metadata": {
  "orig_nbformat": 2,
  "deepnote": {
   "is_reactive": false
  },
  "deepnote_notebook_id": "2da0480f-389e-4cae-b28c-a2add4b124cd",
  "deepnote_execution_queue": []
 }
}