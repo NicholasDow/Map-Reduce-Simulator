{
 "cells": [
  {
   "cell_type": "code",
   "metadata": {
    "tags": [],
    "cell_id": "ad9500e3-1a49-4b9d-a333-80e34335b4b8",
    "deepnote_cell_type": "code"
   },
   "source": "# simulate the simple node A, B, C case\n\n",
   "execution_count": null,
   "outputs": []
  },
  {
   "cell_type": "markdown",
   "source": "a -> b\n\nc -> b\n",
   "metadata": {
    "cell_id": "2bd2e1b7-efd7-4a62-aede-e6eb901e234e",
    "tags": [],
    "deepnote_cell_type": "markdown"
   }
  },
  {
   "cell_type": "code",
   "metadata": {
    "cell_id": "23159ec9-24a9-45c5-b92d-6039286f3830",
    "tags": [],
    "deepnote_to_be_reexecuted": false,
    "source_hash": "db4830df",
    "execution_start": 1646234582481,
    "execution_millis": 1,
    "deepnote_cell_type": "code"
   },
   "source": "# Albert I am just going to start working on the node object here, you do what you want above and I will incorporate it \nclass Node:\n    def __init__(self, sending_bandwith = 1, receiving_bandwith = 1/2, data_to_send = 5):\n\n        # Stats for each node\n        self.time_in_computation = 0\n        self.time_in_waiting = 0\n        self.time_in_communication = 0\n        self.time_in_failure = 0\n        self.memory_access = 0\n\n        self.sending_bandwith = sending_bandwith\n        self.receiving_bandwith = receiving_bandwith\n\n        self.dependent_nodes = []\n        self.target_nodes = []\n\n        self.data_to_send = data_to_send\n        self.data_received = 0\n\n        self.in_communication = False\n        self.in_calculation = False\n        # Represents total bandwith for node. Will be a function of other attributes, eventually\n\n        def update(self):\n            if self.data != 0:\n                self.in_communication = True\n                # This might be unnescessary\n                self.data_to_send = self.data\n                for node in self.target_nodes:\n                    # we are \n            \n        \n        def receive_data_speed(self):\n            # Find speed of receiving data, potentially from each dependent node\n            self.dependent_nodes ",
   "execution_count": 2,
   "outputs": []
  },
  {
   "cell_type": "code",
   "metadata": {
    "cell_id": "014718ba-24eb-4851-a6ec-98f002fc497d",
    "tags": [],
    "deepnote_to_be_reexecuted": false,
    "source_hash": "a133ce3",
    "execution_start": 1646234944564,
    "execution_millis": 0,
    "deepnote_cell_type": "code"
   },
   "source": "def transmission_speed(node_s, node_r):\n    limiting_bandwith = min(node_s.sending_bandwith, node_r.receiving_bandwith)\n    return limiting_bandwith\n\ndef run(nd, time):\n    return time\n  \n",
   "execution_count": 5,
   "outputs": []
  },
  {
   "cell_type": "code",
   "metadata": {
    "cell_id": "81253032-174d-4259-a2da-585bb38843e3",
    "tags": [],
    "deepnote_to_be_reexecuted": false,
    "source_hash": "bf77e21d",
    "execution_start": 1646234791535,
    "execution_millis": 0,
    "deepnote_cell_type": "code"
   },
   "source": "node_a = Node()\nnode_b = Node()\nnode_c = Node() \n\n# here i am connecting everything\n\n# here is where I am making dependent nodes\nnode_c.dependent_nodes = [node_a, node_c]\n\n# here I make targets\nnode_a.target_nodes = [node_c]\nnode_b.target_nodes = [node_c]\n\n# since the two lines above are going to be conjugates we should make them into one function\n\nnode_a.data = 5\nnode_b.data = 5\n\n# if node has data then we begin calculating and sending to the targets\nfor i in range(5):\n    \n    run([node_a, node_b, node_c])\n",
   "execution_count": 4,
   "outputs": []
  },
  {
   "cell_type": "code",
   "metadata": {
    "cell_id": "c8e2d027-5037-4d49-8e9f-d1642800d993",
    "tags": [],
    "deepnote_cell_type": "code"
   },
   "source": "",
   "execution_count": null,
   "outputs": []
  },
  {
   "cell_type": "markdown",
   "source": "<a style='text-decoration:none;line-height:16px;display:flex;color:#5B5B62;padding:10px;justify-content:end;' href='https://deepnote.com?utm_source=created-in-deepnote-cell&projectId=26c72990-d4fd-4f51-a2d1-b4fb7127844f' target=\"_blank\">\n<img alt='Created in deepnote.com' style='display:inline;max-height:16px;margin:0px;margin-right:7.5px;' src='data:image/svg+xml;base64,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' > </img>\nCreated in <span style='font-weight:600;margin-left:4px;'>Deepnote</span></a>",
   "metadata": {
    "tags": [],
    "created_in_deepnote_cell": true,
    "deepnote_cell_type": "markdown"
   }
  }
 ],
 "nbformat": 4,
 "nbformat_minor": 2,
 "metadata": {
  "orig_nbformat": 2,
  "deepnote": {
   "is_reactive": false
  },
  "deepnote_notebook_id": "2da0480f-389e-4cae-b28c-a2add4b124cd",
  "deepnote_execution_queue": []
 }
}